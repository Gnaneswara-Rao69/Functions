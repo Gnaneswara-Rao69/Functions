{
  "nbformat": 4,
  "nbformat_minor": 0,
  "metadata": {
    "colab": {
      "provenance": []
    },
    "kernelspec": {
      "name": "python3",
      "display_name": "Python 3"
    },
    "language_info": {
      "name": "python"
    }
  },
  "cells": [
    {
      "cell_type": "markdown",
      "source": [
        " 1. Write a Python function that takes a list of numbers as input and returns the sum of all even numbers in the list."
      ],
      "metadata": {
        "id": "-A2lm9QodRMS"
      }
    },
    {
      "cell_type": "code",
      "execution_count": null,
      "metadata": {
        "id": "WRhvCn7hWM2w"
      },
      "outputs": [],
      "source": [
        "def sum_even_numbers(numbers):\n",
        "    return sum(num for num in numbers if num % 2 == 0)\n",
        "\n",
        "# Example usage:\n",
        "numbers = [1, 2, 3, 4, 5, 6]\n",
        "result = sum_even_numbers(numbers)\n",
        "print(result)  # Output: 12\n"
      ]
    },
    {
      "cell_type": "markdown",
      "source": [
        "2. Create a Python function that accepts a string and returns the reverse of that string."
      ],
      "metadata": {
        "id": "BuDeawNjd2Cs"
      }
    },
    {
      "cell_type": "code",
      "source": [
        "def reverse_string(s):\n",
        "    return s[::-1]\n",
        "\n",
        "# Example usage:\n",
        "original_string = \"Hello, World!\"\n",
        "reversed_string = reverse_string(original_string)\n",
        "print(reversed_string)  # Output: \"!dlroW ,olleH\"\n"
      ],
      "metadata": {
        "id": "XrZSkWhAeIoB"
      },
      "execution_count": null,
      "outputs": []
    },
    {
      "cell_type": "markdown",
      "source": [
        " 3. Implement a Python function that takes a list of integers and returns a new list containing the squares of each number."
      ],
      "metadata": {
        "id": "a0W-xBrheNSb"
      }
    },
    {
      "cell_type": "code",
      "source": [
        "def square_numbers(numbers):\n",
        "    return [num ** 2 for num in numbers]\n",
        "\n",
        "# Example usage:\n",
        "numbers = [1, 2, 3, 4, 5]\n",
        "squared_numbers = square_numbers(numbers)\n",
        "print(squared_numbers)  # Output: [1, 4, 9, 16, 25]\n",
        "\n"
      ],
      "metadata": {
        "id": "YRUSS6GteY_8"
      },
      "execution_count": null,
      "outputs": []
    },
    {
      "cell_type": "markdown",
      "source": [
        "4. Write a Python function that checks if a given number is prime or not from 1 to 200."
      ],
      "metadata": {
        "id": "9bECovgFekVS"
      }
    },
    {
      "cell_type": "code",
      "source": [
        "def is_prime(n):\n",
        "    if n <= 1:\n",
        "        return False\n",
        "    for i in range(2, int(n ** 0.5) + 1):\n",
        "        if n % i == 0:\n",
        "            return False\n",
        "    return True\n",
        "\n",
        "# Example usage:\n",
        "for num in range(1, 201):\n",
        "    if is_prime(num):\n",
        "        print(f\"{num} is a prime number\")\n",
        "\n"
      ],
      "metadata": {
        "id": "7fYa7bU6et0d"
      },
      "execution_count": null,
      "outputs": []
    },
    {
      "cell_type": "markdown",
      "source": [
        "5. Create an iterator class in Python that generates the Fibonacci sequence up to a specified number of terms.\n"
      ],
      "metadata": {
        "id": "ZoGRiPX-97-_"
      }
    },
    {
      "cell_type": "code",
      "source": [
        "class FibonacciIterator:\n",
        "    def __init__(self, n):\n",
        "        self.n = n\n",
        "        self.a, self.b = 0, 1\n",
        "        self.count = 0\n",
        "\n",
        "    def __iter__(self):\n",
        "        return self\n",
        "\n",
        "    def __next__(self):\n",
        "        if self.count < self.n:\n",
        "            result = self.a\n",
        "            self.a, self.b = self.b, self.a + self.b\n",
        "            self.count += 1\n",
        "            return result\n",
        "        else:\n",
        "            raise StopIteration\n",
        "\n",
        "# Example usage:\n",
        "fib_iterator = FibonacciIterator(10)\n",
        "for num in fib_iterator:\n",
        "    print(num)\n"
      ],
      "metadata": {
        "id": "fbXrVJWKq4AQ"
      },
      "execution_count": null,
      "outputs": []
    },
    {
      "cell_type": "markdown",
      "source": [
        "6. Write a generator function in Python that yields the powers of 2 up to a given exponent."
      ],
      "metadata": {
        "id": "d5oLP8GUq9UZ"
      }
    },
    {
      "cell_type": "code",
      "source": [
        "def powers_of_two(n):\n",
        "    for i in range(n + 1):\n",
        "        yield 2 ** i\n",
        "\n",
        "# Example usage:\n",
        "for power in powers_of_two(5):\n",
        "    print(power)\n",
        "\n"
      ],
      "metadata": {
        "id": "OhPT5pjdrF6F"
      },
      "execution_count": null,
      "outputs": []
    },
    {
      "cell_type": "markdown",
      "source": [
        "7.  Implement a generator function that reads a file line by line and yields each line as a string."
      ],
      "metadata": {
        "id": "z87nAALzrr4A"
      }
    },
    {
      "cell_type": "code",
      "source": [
        "def read_file_lines(file_path):\n",
        "    with open(file_path, 'r') as file:\n",
        "        for line in file:\n",
        "            yield line.strip()\n",
        "\n",
        "# Example usage:\n",
        "file_path = 'example.txt'\n",
        "for line in read_file_lines(file_path):\n",
        "    print(line)\n",
        "\n"
      ],
      "metadata": {
        "id": "lEzkXPupdwqk"
      },
      "execution_count": null,
      "outputs": []
    },
    {
      "cell_type": "markdown",
      "source": [
        "8.  Use a lambda function in Python to sort a list of tuples based on the second element of each tuple."
      ],
      "metadata": {
        "id": "BElHC9lvr_Jf"
      }
    },
    {
      "cell_type": "code",
      "source": [
        "tuples = [(3, 6), (1, 9), (2, 4), (4, 1), (5, 7)]\n",
        "sorted_tuples = sorted(tuples, key=lambda x: x[1])\n",
        "print(sorted_tuples)\n",
        "\n"
      ],
      "metadata": {
        "id": "U7O24HY8sHSL"
      },
      "execution_count": null,
      "outputs": []
    },
    {
      "cell_type": "markdown",
      "source": [
        "9.  Write a Python program that uses `map()` to convert a list of temperatures from Celsius to Fahrenheit."
      ],
      "metadata": {
        "id": "XDLRXCdosVBn"
      }
    },
    {
      "cell_type": "code",
      "source": [
        "def celsius_to_fahrenheit(celsius):\n",
        "    return (celsius * 9/5) + 32\n",
        "\n",
        "celsius_temps = [0, 10, 20, 30, 40]\n",
        "fahrenheit_temps = list(map(celsius_to_fahrenheit, celsius_temps))\n",
        "print(fahrenheit_temps)\n"
      ],
      "metadata": {
        "id": "3KCOi6OmsbJK"
      },
      "execution_count": null,
      "outputs": []
    },
    {
      "cell_type": "markdown",
      "source": [
        "10. Create a Python program that uses `filter()` to remove all the vowels from a given string."
      ],
      "metadata": {
        "id": "ySuXHyuBslBp"
      }
    },
    {
      "cell_type": "code",
      "source": [
        "def is_not_vowel(char):\n",
        "    return char.lower() not in 'aeiou'\n",
        "\n",
        "string = \"Hello, World!\"\n",
        "no_vowels = ''.join(filter(is_not_vowel, string))\n",
        "print(no_vowels)\n"
      ],
      "metadata": {
        "id": "4gy68og9ssV_"
      },
      "execution_count": null,
      "outputs": []
    },
    {
      "cell_type": "code",
      "source": [
        "#11\n",
        "book_orders = [\n",
        "    [\"34587\", \"Learning Python, Mark Lutz\", 4, 40.95],\n",
        "    [\"98762\", \"Programming Python, Mark Lutz\", 5, 56.80],\n",
        "    [\"77226\", \"Head First Python, Paul Barry\", 3, 32.95],\n",
        "    [\"88112\", \"Einführung in Python3, Bernd Klein\", 3, 24.99],\n",
        "]\n",
        "\n",
        "def process_order(order):\n",
        "    order_number = order[0]\n",
        "    quantity = order[2]\n",
        "    price_per_item = order[3]\n",
        "    total_price = quantity * price_per_item\n",
        "    if total_price < 100:\n",
        "        price_per_item += 10\n",
        "    return (order_number, price_per_item * quantity)\n",
        "\n",
        "processed_orders = list(map(process_order, book_orders))\n",
        "\n",
        "print(processed_orders)"
      ],
      "metadata": {
        "id": "codCOcdTtwBs"
      },
      "execution_count": null,
      "outputs": []
    }
  ]
}